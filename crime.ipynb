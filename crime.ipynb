{
 "cells": [
  {
   "cell_type": "code",
   "execution_count": 1,
   "metadata": {
    "collapsed": false
   },
   "outputs": [],
   "source": [
    "import pandas as pd\n",
    "import re \n",
    "import numpy as np\n",
    "import matplotlib.pyplot as plt\n",
    "%matplotlib inline\n",
    "from matplotlib import colors as mcolors\n",
    "import locale\n",
    "from locale import atof\n",
    "import seaborn as sns"
   ]
  },
  {
   "cell_type": "code",
   "execution_count": 2,
   "metadata": {
    "collapsed": false
   },
   "outputs": [],
   "source": [
    "sns.set_palette('deep',desat = .6)\n",
    "sns.set_context(rc = {'figure.figsize':(8,4)})"
   ]
  },
  {
   "cell_type": "code",
   "execution_count": 3,
   "metadata": {
    "collapsed": true
   },
   "outputs": [],
   "source": [
    "crime = pd.read_csv('BostonCrime/crime.csv')"
   ]
  },
  {
   "cell_type": "code",
   "execution_count": 4,
   "metadata": {
    "collapsed": false
   },
   "outputs": [
    {
     "data": {
      "text/plain": [
       "(195622, 17)"
      ]
     },
     "execution_count": 4,
     "metadata": {},
     "output_type": "execute_result"
    }
   ],
   "source": [
    "crime.shape"
   ]
  },
  {
   "cell_type": "code",
   "execution_count": 30,
   "metadata": {
    "collapsed": false
   },
   "outputs": [
    {
     "data": {
      "text/plain": [
       "(195264, 17)"
      ]
     },
     "execution_count": 30,
     "metadata": {},
     "output_type": "execute_result"
    }
   ],
   "source": [
    "crime_goodlats.shape"
   ]
  },
  {
   "cell_type": "code",
   "execution_count": 4,
   "metadata": {
    "collapsed": false
   },
   "outputs": [],
   "source": [
    "pd.set_option('display.max_rows',20)"
   ]
  },
  {
   "cell_type": "code",
   "execution_count": 97,
   "metadata": {
    "collapsed": false,
    "scrolled": false
   },
   "outputs": [
    {
     "data": {
      "text/html": [
       "<div>\n",
       "<table border=\"1\" class=\"dataframe\">\n",
       "  <thead>\n",
       "    <tr style=\"text-align: right;\">\n",
       "      <th></th>\n",
       "      <th>INCIDENT_NUMBER</th>\n",
       "      <th>OFFENSE_CODE</th>\n",
       "      <th>OFFENSE_CODE_GROUP</th>\n",
       "      <th>OFFENSE_DESCRIPTION</th>\n",
       "      <th>DISTRICT</th>\n",
       "      <th>REPORTING_AREA</th>\n",
       "      <th>SHOOTING</th>\n",
       "      <th>OCCURRED_ON_DATE</th>\n",
       "      <th>YEAR</th>\n",
       "      <th>MONTH</th>\n",
       "      <th>DAY_OF_WEEK</th>\n",
       "      <th>HOUR</th>\n",
       "      <th>UCR_PART</th>\n",
       "      <th>STREET</th>\n",
       "      <th>Lat</th>\n",
       "      <th>Long</th>\n",
       "      <th>Location</th>\n",
       "    </tr>\n",
       "  </thead>\n",
       "  <tbody>\n",
       "    <tr>\n",
       "      <th>0</th>\n",
       "      <td>I172047308</td>\n",
       "      <td>3006</td>\n",
       "      <td>Medical Assistance</td>\n",
       "      <td>SICK/INJURED/MEDICAL - PERSON</td>\n",
       "      <td>D4</td>\n",
       "      <td>130</td>\n",
       "      <td>NaN</td>\n",
       "      <td>2017-06-13 21:55:00</td>\n",
       "      <td>2017</td>\n",
       "      <td>6</td>\n",
       "      <td>Tuesday</td>\n",
       "      <td>21</td>\n",
       "      <td>Part Three</td>\n",
       "      <td>HUNTINGTON AVE</td>\n",
       "      <td>42.348577</td>\n",
       "      <td>-71.077720</td>\n",
       "      <td>(42.34857652, -71.07772012)</td>\n",
       "    </tr>\n",
       "    <tr>\n",
       "      <th>1</th>\n",
       "      <td>I172047296</td>\n",
       "      <td>802</td>\n",
       "      <td>Simple Assault</td>\n",
       "      <td>ASSAULT SIMPLE - BATTERY</td>\n",
       "      <td>B2</td>\n",
       "      <td>326</td>\n",
       "      <td>NaN</td>\n",
       "      <td>2017-06-13 20:53:00</td>\n",
       "      <td>2017</td>\n",
       "      <td>6</td>\n",
       "      <td>Tuesday</td>\n",
       "      <td>20</td>\n",
       "      <td>Part Two</td>\n",
       "      <td>QUINCY ST</td>\n",
       "      <td>42.313322</td>\n",
       "      <td>-71.075915</td>\n",
       "      <td>(42.31332153, -71.07591511)</td>\n",
       "    </tr>\n",
       "    <tr>\n",
       "      <th>2</th>\n",
       "      <td>I172047293</td>\n",
       "      <td>802</td>\n",
       "      <td>Simple Assault</td>\n",
       "      <td>ASSAULT SIMPLE - BATTERY</td>\n",
       "      <td>B2</td>\n",
       "      <td>331</td>\n",
       "      <td>NaN</td>\n",
       "      <td>2017-06-13 21:01:00</td>\n",
       "      <td>2017</td>\n",
       "      <td>6</td>\n",
       "      <td>Tuesday</td>\n",
       "      <td>21</td>\n",
       "      <td>Part Two</td>\n",
       "      <td>BAKER AVE</td>\n",
       "      <td>42.312387</td>\n",
       "      <td>-71.070862</td>\n",
       "      <td>(42.31238668, -71.07086154)</td>\n",
       "    </tr>\n",
       "    <tr>\n",
       "      <th>3</th>\n",
       "      <td>I172047291</td>\n",
       "      <td>706</td>\n",
       "      <td>Auto Theft</td>\n",
       "      <td>AUTO THEFT - MOTORCYCLE / SCOOTER</td>\n",
       "      <td>A1</td>\n",
       "      <td>67</td>\n",
       "      <td>NaN</td>\n",
       "      <td>2017-06-06 09:00:00</td>\n",
       "      <td>2017</td>\n",
       "      <td>6</td>\n",
       "      <td>Tuesday</td>\n",
       "      <td>9</td>\n",
       "      <td>Part One</td>\n",
       "      <td>ANDERSON ST</td>\n",
       "      <td>42.360306</td>\n",
       "      <td>-71.067789</td>\n",
       "      <td>(42.36030562, -71.06778870)</td>\n",
       "    </tr>\n",
       "    <tr>\n",
       "      <th>4</th>\n",
       "      <td>I172047289</td>\n",
       "      <td>3301</td>\n",
       "      <td>Verbal Disputes</td>\n",
       "      <td>VERBAL DISPUTE</td>\n",
       "      <td>E18</td>\n",
       "      <td>516</td>\n",
       "      <td>NaN</td>\n",
       "      <td>2017-06-13 21:01:00</td>\n",
       "      <td>2017</td>\n",
       "      <td>6</td>\n",
       "      <td>Tuesday</td>\n",
       "      <td>21</td>\n",
       "      <td>Part Three</td>\n",
       "      <td>TRUMAN PKWY</td>\n",
       "      <td>42.251278</td>\n",
       "      <td>-71.120194</td>\n",
       "      <td>(42.25127804, -71.12019402)</td>\n",
       "    </tr>\n",
       "    <tr>\n",
       "      <th>5</th>\n",
       "      <td>I172047288</td>\n",
       "      <td>3114</td>\n",
       "      <td>Investigate Property</td>\n",
       "      <td>INVESTIGATE PROPERTY</td>\n",
       "      <td>NaN</td>\n",
       "      <td></td>\n",
       "      <td>NaN</td>\n",
       "      <td>2017-06-13 21:33:00</td>\n",
       "      <td>2017</td>\n",
       "      <td>6</td>\n",
       "      <td>Tuesday</td>\n",
       "      <td>21</td>\n",
       "      <td>Part Three</td>\n",
       "      <td>NaN</td>\n",
       "      <td>42.308064</td>\n",
       "      <td>-71.065067</td>\n",
       "      <td>(42.30806374, -71.06506719)</td>\n",
       "    </tr>\n",
       "    <tr>\n",
       "      <th>6</th>\n",
       "      <td>I172047287</td>\n",
       "      <td>2629</td>\n",
       "      <td>Harassment</td>\n",
       "      <td>HARASSMENT</td>\n",
       "      <td>B2</td>\n",
       "      <td>324</td>\n",
       "      <td>NaN</td>\n",
       "      <td>2017-06-13 21:42:00</td>\n",
       "      <td>2017</td>\n",
       "      <td>6</td>\n",
       "      <td>Tuesday</td>\n",
       "      <td>21</td>\n",
       "      <td>Part Two</td>\n",
       "      <td>DANUBE ST</td>\n",
       "      <td>42.317439</td>\n",
       "      <td>-71.075478</td>\n",
       "      <td>(42.31743922, -71.07547845)</td>\n",
       "    </tr>\n",
       "    <tr>\n",
       "      <th>7</th>\n",
       "      <td>I172047286</td>\n",
       "      <td>1830</td>\n",
       "      <td>Drug Violation</td>\n",
       "      <td>DRUGS - SICK ASSIST - HEROIN</td>\n",
       "      <td>D4</td>\n",
       "      <td></td>\n",
       "      <td>NaN</td>\n",
       "      <td>2017-06-13 21:12:00</td>\n",
       "      <td>2017</td>\n",
       "      <td>6</td>\n",
       "      <td>Tuesday</td>\n",
       "      <td>21</td>\n",
       "      <td>Part Two</td>\n",
       "      <td>NaN</td>\n",
       "      <td>42.344316</td>\n",
       "      <td>-71.074464</td>\n",
       "      <td>(42.34431640, -71.07446411)</td>\n",
       "    </tr>\n",
       "    <tr>\n",
       "      <th>8</th>\n",
       "      <td>I172047283</td>\n",
       "      <td>3831</td>\n",
       "      <td>Motor Vehicle Accident Response</td>\n",
       "      <td>M/V - LEAVING SCENE - PROPERTY DAMAGE</td>\n",
       "      <td>C11</td>\n",
       "      <td>235</td>\n",
       "      <td>NaN</td>\n",
       "      <td>2017-05-28 09:00:00</td>\n",
       "      <td>2017</td>\n",
       "      <td>5</td>\n",
       "      <td>Sunday</td>\n",
       "      <td>9</td>\n",
       "      <td>Part Three</td>\n",
       "      <td>BUTTONWOOD ST</td>\n",
       "      <td>42.320878</td>\n",
       "      <td>-71.055852</td>\n",
       "      <td>(42.32087815, -71.05585215)</td>\n",
       "    </tr>\n",
       "    <tr>\n",
       "      <th>9</th>\n",
       "      <td>I172047282</td>\n",
       "      <td>3115</td>\n",
       "      <td>Investigate Person</td>\n",
       "      <td>INVESTIGATE PERSON</td>\n",
       "      <td>NaN</td>\n",
       "      <td></td>\n",
       "      <td>NaN</td>\n",
       "      <td>2017-06-13 20:45:00</td>\n",
       "      <td>2017</td>\n",
       "      <td>6</td>\n",
       "      <td>Tuesday</td>\n",
       "      <td>20</td>\n",
       "      <td>Part Three</td>\n",
       "      <td>NaN</td>\n",
       "      <td>42.335066</td>\n",
       "      <td>-71.078791</td>\n",
       "      <td>(42.33506554, -71.07879088)</td>\n",
       "    </tr>\n",
       "    <tr>\n",
       "      <th>...</th>\n",
       "      <td>...</td>\n",
       "      <td>...</td>\n",
       "      <td>...</td>\n",
       "      <td>...</td>\n",
       "      <td>...</td>\n",
       "      <td>...</td>\n",
       "      <td>...</td>\n",
       "      <td>...</td>\n",
       "      <td>...</td>\n",
       "      <td>...</td>\n",
       "      <td>...</td>\n",
       "      <td>...</td>\n",
       "      <td>...</td>\n",
       "      <td>...</td>\n",
       "      <td>...</td>\n",
       "      <td>...</td>\n",
       "      <td>...</td>\n",
       "    </tr>\n",
       "    <tr>\n",
       "      <th>195612</th>\n",
       "      <td>I090317057-00</td>\n",
       "      <td>403</td>\n",
       "      <td>Aggravated Assault</td>\n",
       "      <td>ASSAULT &amp; BATTERY D/W - OTHER</td>\n",
       "      <td>B3</td>\n",
       "      <td>458</td>\n",
       "      <td>NaN</td>\n",
       "      <td>2015-11-20 11:15:00</td>\n",
       "      <td>2015</td>\n",
       "      <td>11</td>\n",
       "      <td>Friday</td>\n",
       "      <td>11</td>\n",
       "      <td>Part One</td>\n",
       "      <td>BLUE HILL AVE</td>\n",
       "      <td>42.301897</td>\n",
       "      <td>-71.085549</td>\n",
       "      <td>(42.30189690, -71.08554944)</td>\n",
       "    </tr>\n",
       "    <tr>\n",
       "      <th>195613</th>\n",
       "      <td>I090317057-00</td>\n",
       "      <td>3125</td>\n",
       "      <td>Warrant Arrests</td>\n",
       "      <td>WARRANT ARREST</td>\n",
       "      <td>B3</td>\n",
       "      <td>458</td>\n",
       "      <td>NaN</td>\n",
       "      <td>2015-11-20 11:15:00</td>\n",
       "      <td>2015</td>\n",
       "      <td>11</td>\n",
       "      <td>Friday</td>\n",
       "      <td>11</td>\n",
       "      <td>Part Three</td>\n",
       "      <td>BLUE HILL AVE</td>\n",
       "      <td>42.301897</td>\n",
       "      <td>-71.085549</td>\n",
       "      <td>(42.30189690, -71.08554944)</td>\n",
       "    </tr>\n",
       "    <tr>\n",
       "      <th>195614</th>\n",
       "      <td>I080542626-00</td>\n",
       "      <td>3125</td>\n",
       "      <td>Warrant Arrests</td>\n",
       "      <td>WARRANT ARREST</td>\n",
       "      <td>A1</td>\n",
       "      <td>111</td>\n",
       "      <td>NaN</td>\n",
       "      <td>2015-08-12 12:00:00</td>\n",
       "      <td>2015</td>\n",
       "      <td>8</td>\n",
       "      <td>Wednesday</td>\n",
       "      <td>12</td>\n",
       "      <td>Part Three</td>\n",
       "      <td>BOYLSTON ST</td>\n",
       "      <td>42.352312</td>\n",
       "      <td>-71.063705</td>\n",
       "      <td>(42.35231190, -71.06370510)</td>\n",
       "    </tr>\n",
       "    <tr>\n",
       "      <th>195615</th>\n",
       "      <td>I080542626-00</td>\n",
       "      <td>1848</td>\n",
       "      <td>Drug Violation</td>\n",
       "      <td>DRUGS - POSS CLASS B - INTENT TO MFR DIST DISP</td>\n",
       "      <td>A1</td>\n",
       "      <td>111</td>\n",
       "      <td>NaN</td>\n",
       "      <td>2015-08-12 12:00:00</td>\n",
       "      <td>2015</td>\n",
       "      <td>8</td>\n",
       "      <td>Wednesday</td>\n",
       "      <td>12</td>\n",
       "      <td>Part Two</td>\n",
       "      <td>BOYLSTON ST</td>\n",
       "      <td>42.352312</td>\n",
       "      <td>-71.063705</td>\n",
       "      <td>(42.35231190, -71.06370510)</td>\n",
       "    </tr>\n",
       "    <tr>\n",
       "      <th>195616</th>\n",
       "      <td>I080542626-00</td>\n",
       "      <td>1849</td>\n",
       "      <td>Drug Violation</td>\n",
       "      <td>DRUGS - POSS CLASS B - COCAINE, ETC.</td>\n",
       "      <td>A1</td>\n",
       "      <td>111</td>\n",
       "      <td>NaN</td>\n",
       "      <td>2015-08-12 12:00:00</td>\n",
       "      <td>2015</td>\n",
       "      <td>8</td>\n",
       "      <td>Wednesday</td>\n",
       "      <td>12</td>\n",
       "      <td>Part Two</td>\n",
       "      <td>BOYLSTON ST</td>\n",
       "      <td>42.352312</td>\n",
       "      <td>-71.063705</td>\n",
       "      <td>(42.35231190, -71.06370510)</td>\n",
       "    </tr>\n",
       "    <tr>\n",
       "      <th>195617</th>\n",
       "      <td>I050310906-00</td>\n",
       "      <td>3125</td>\n",
       "      <td>Warrant Arrests</td>\n",
       "      <td>WARRANT ARREST</td>\n",
       "      <td>D4</td>\n",
       "      <td>285</td>\n",
       "      <td>NaN</td>\n",
       "      <td>2016-06-05 17:25:00</td>\n",
       "      <td>2016</td>\n",
       "      <td>6</td>\n",
       "      <td>Sunday</td>\n",
       "      <td>17</td>\n",
       "      <td>Part Three</td>\n",
       "      <td>COVENTRY ST</td>\n",
       "      <td>42.336951</td>\n",
       "      <td>-71.085748</td>\n",
       "      <td>(42.33695098, -71.08574813)</td>\n",
       "    </tr>\n",
       "    <tr>\n",
       "      <th>195618</th>\n",
       "      <td>I030217815-08</td>\n",
       "      <td>111</td>\n",
       "      <td>Homicide</td>\n",
       "      <td>MURDER, NON-NEGLIGIENT MANSLAUGHTER</td>\n",
       "      <td>E18</td>\n",
       "      <td>520</td>\n",
       "      <td>NaN</td>\n",
       "      <td>2015-07-09 13:38:00</td>\n",
       "      <td>2015</td>\n",
       "      <td>7</td>\n",
       "      <td>Thursday</td>\n",
       "      <td>13</td>\n",
       "      <td>Part One</td>\n",
       "      <td>RIVER ST</td>\n",
       "      <td>42.255926</td>\n",
       "      <td>-71.123172</td>\n",
       "      <td>(42.25592648, -71.12317207)</td>\n",
       "    </tr>\n",
       "    <tr>\n",
       "      <th>195619</th>\n",
       "      <td>I030217815-08</td>\n",
       "      <td>3125</td>\n",
       "      <td>Warrant Arrests</td>\n",
       "      <td>WARRANT ARREST</td>\n",
       "      <td>E18</td>\n",
       "      <td>520</td>\n",
       "      <td>NaN</td>\n",
       "      <td>2015-07-09 13:38:00</td>\n",
       "      <td>2015</td>\n",
       "      <td>7</td>\n",
       "      <td>Thursday</td>\n",
       "      <td>13</td>\n",
       "      <td>Part Three</td>\n",
       "      <td>RIVER ST</td>\n",
       "      <td>42.255926</td>\n",
       "      <td>-71.123172</td>\n",
       "      <td>(42.25592648, -71.12317207)</td>\n",
       "    </tr>\n",
       "    <tr>\n",
       "      <th>195620</th>\n",
       "      <td>I010370257-00</td>\n",
       "      <td>3125</td>\n",
       "      <td>Warrant Arrests</td>\n",
       "      <td>WARRANT ARREST</td>\n",
       "      <td>E13</td>\n",
       "      <td>569</td>\n",
       "      <td>NaN</td>\n",
       "      <td>2016-05-31 19:35:00</td>\n",
       "      <td>2016</td>\n",
       "      <td>5</td>\n",
       "      <td>Tuesday</td>\n",
       "      <td>19</td>\n",
       "      <td>Part Three</td>\n",
       "      <td>NEW WASHINGTON ST</td>\n",
       "      <td>42.302333</td>\n",
       "      <td>-71.111565</td>\n",
       "      <td>(42.30233307, -71.11156487)</td>\n",
       "    </tr>\n",
       "    <tr>\n",
       "      <th>195621</th>\n",
       "      <td>142052550</td>\n",
       "      <td>3125</td>\n",
       "      <td>Warrant Arrests</td>\n",
       "      <td>WARRANT ARREST</td>\n",
       "      <td>D4</td>\n",
       "      <td>903</td>\n",
       "      <td>NaN</td>\n",
       "      <td>2015-06-22 00:12:00</td>\n",
       "      <td>2015</td>\n",
       "      <td>6</td>\n",
       "      <td>Monday</td>\n",
       "      <td>0</td>\n",
       "      <td>Part Three</td>\n",
       "      <td>WASHINGTON ST</td>\n",
       "      <td>42.333839</td>\n",
       "      <td>-71.080290</td>\n",
       "      <td>(42.33383935, -71.08029038)</td>\n",
       "    </tr>\n",
       "  </tbody>\n",
       "</table>\n",
       "<p>195622 rows × 17 columns</p>\n",
       "</div>"
      ],
      "text/plain": [
       "       INCIDENT_NUMBER  OFFENSE_CODE               OFFENSE_CODE_GROUP  \\\n",
       "0           I172047308          3006               Medical Assistance   \n",
       "1           I172047296           802                   Simple Assault   \n",
       "2           I172047293           802                   Simple Assault   \n",
       "3           I172047291           706                       Auto Theft   \n",
       "4           I172047289          3301                  Verbal Disputes   \n",
       "5           I172047288          3114             Investigate Property   \n",
       "6           I172047287          2629                       Harassment   \n",
       "7           I172047286          1830                   Drug Violation   \n",
       "8           I172047283          3831  Motor Vehicle Accident Response   \n",
       "9           I172047282          3115               Investigate Person   \n",
       "...                ...           ...                              ...   \n",
       "195612   I090317057-00           403               Aggravated Assault   \n",
       "195613   I090317057-00          3125                  Warrant Arrests   \n",
       "195614   I080542626-00          3125                  Warrant Arrests   \n",
       "195615   I080542626-00          1848                   Drug Violation   \n",
       "195616   I080542626-00          1849                   Drug Violation   \n",
       "195617   I050310906-00          3125                  Warrant Arrests   \n",
       "195618   I030217815-08           111                         Homicide   \n",
       "195619   I030217815-08          3125                  Warrant Arrests   \n",
       "195620   I010370257-00          3125                  Warrant Arrests   \n",
       "195621       142052550          3125                  Warrant Arrests   \n",
       "\n",
       "                                   OFFENSE_DESCRIPTION DISTRICT  \\\n",
       "0                        SICK/INJURED/MEDICAL - PERSON       D4   \n",
       "1                             ASSAULT SIMPLE - BATTERY       B2   \n",
       "2                             ASSAULT SIMPLE - BATTERY       B2   \n",
       "3                    AUTO THEFT - MOTORCYCLE / SCOOTER       A1   \n",
       "4                                       VERBAL DISPUTE      E18   \n",
       "5                                 INVESTIGATE PROPERTY      NaN   \n",
       "6                                           HARASSMENT       B2   \n",
       "7                         DRUGS - SICK ASSIST - HEROIN       D4   \n",
       "8                M/V - LEAVING SCENE - PROPERTY DAMAGE      C11   \n",
       "9                                   INVESTIGATE PERSON      NaN   \n",
       "...                                                ...      ...   \n",
       "195612                   ASSAULT & BATTERY D/W - OTHER       B3   \n",
       "195613                                  WARRANT ARREST       B3   \n",
       "195614                                  WARRANT ARREST       A1   \n",
       "195615  DRUGS - POSS CLASS B - INTENT TO MFR DIST DISP       A1   \n",
       "195616            DRUGS - POSS CLASS B - COCAINE, ETC.       A1   \n",
       "195617                                  WARRANT ARREST       D4   \n",
       "195618             MURDER, NON-NEGLIGIENT MANSLAUGHTER      E18   \n",
       "195619                                  WARRANT ARREST      E18   \n",
       "195620                                  WARRANT ARREST      E13   \n",
       "195621                                  WARRANT ARREST       D4   \n",
       "\n",
       "       REPORTING_AREA SHOOTING     OCCURRED_ON_DATE  YEAR  MONTH DAY_OF_WEEK  \\\n",
       "0                 130      NaN  2017-06-13 21:55:00  2017      6     Tuesday   \n",
       "1                 326      NaN  2017-06-13 20:53:00  2017      6     Tuesday   \n",
       "2                 331      NaN  2017-06-13 21:01:00  2017      6     Tuesday   \n",
       "3                  67      NaN  2017-06-06 09:00:00  2017      6     Tuesday   \n",
       "4                 516      NaN  2017-06-13 21:01:00  2017      6     Tuesday   \n",
       "5                          NaN  2017-06-13 21:33:00  2017      6     Tuesday   \n",
       "6                 324      NaN  2017-06-13 21:42:00  2017      6     Tuesday   \n",
       "7                          NaN  2017-06-13 21:12:00  2017      6     Tuesday   \n",
       "8                 235      NaN  2017-05-28 09:00:00  2017      5      Sunday   \n",
       "9                          NaN  2017-06-13 20:45:00  2017      6     Tuesday   \n",
       "...               ...      ...                  ...   ...    ...         ...   \n",
       "195612            458      NaN  2015-11-20 11:15:00  2015     11      Friday   \n",
       "195613            458      NaN  2015-11-20 11:15:00  2015     11      Friday   \n",
       "195614            111      NaN  2015-08-12 12:00:00  2015      8   Wednesday   \n",
       "195615            111      NaN  2015-08-12 12:00:00  2015      8   Wednesday   \n",
       "195616            111      NaN  2015-08-12 12:00:00  2015      8   Wednesday   \n",
       "195617            285      NaN  2016-06-05 17:25:00  2016      6      Sunday   \n",
       "195618            520      NaN  2015-07-09 13:38:00  2015      7    Thursday   \n",
       "195619            520      NaN  2015-07-09 13:38:00  2015      7    Thursday   \n",
       "195620            569      NaN  2016-05-31 19:35:00  2016      5     Tuesday   \n",
       "195621            903      NaN  2015-06-22 00:12:00  2015      6      Monday   \n",
       "\n",
       "        HOUR    UCR_PART             STREET        Lat       Long  \\\n",
       "0         21  Part Three     HUNTINGTON AVE  42.348577 -71.077720   \n",
       "1         20    Part Two          QUINCY ST  42.313322 -71.075915   \n",
       "2         21    Part Two          BAKER AVE  42.312387 -71.070862   \n",
       "3          9    Part One        ANDERSON ST  42.360306 -71.067789   \n",
       "4         21  Part Three        TRUMAN PKWY  42.251278 -71.120194   \n",
       "5         21  Part Three                NaN  42.308064 -71.065067   \n",
       "6         21    Part Two          DANUBE ST  42.317439 -71.075478   \n",
       "7         21    Part Two                NaN  42.344316 -71.074464   \n",
       "8          9  Part Three      BUTTONWOOD ST  42.320878 -71.055852   \n",
       "9         20  Part Three                NaN  42.335066 -71.078791   \n",
       "...      ...         ...                ...        ...        ...   \n",
       "195612    11    Part One      BLUE HILL AVE  42.301897 -71.085549   \n",
       "195613    11  Part Three      BLUE HILL AVE  42.301897 -71.085549   \n",
       "195614    12  Part Three        BOYLSTON ST  42.352312 -71.063705   \n",
       "195615    12    Part Two        BOYLSTON ST  42.352312 -71.063705   \n",
       "195616    12    Part Two        BOYLSTON ST  42.352312 -71.063705   \n",
       "195617    17  Part Three        COVENTRY ST  42.336951 -71.085748   \n",
       "195618    13    Part One           RIVER ST  42.255926 -71.123172   \n",
       "195619    13  Part Three           RIVER ST  42.255926 -71.123172   \n",
       "195620    19  Part Three  NEW WASHINGTON ST  42.302333 -71.111565   \n",
       "195621     0  Part Three      WASHINGTON ST  42.333839 -71.080290   \n",
       "\n",
       "                           Location  \n",
       "0       (42.34857652, -71.07772012)  \n",
       "1       (42.31332153, -71.07591511)  \n",
       "2       (42.31238668, -71.07086154)  \n",
       "3       (42.36030562, -71.06778870)  \n",
       "4       (42.25127804, -71.12019402)  \n",
       "5       (42.30806374, -71.06506719)  \n",
       "6       (42.31743922, -71.07547845)  \n",
       "7       (42.34431640, -71.07446411)  \n",
       "8       (42.32087815, -71.05585215)  \n",
       "9       (42.33506554, -71.07879088)  \n",
       "...                             ...  \n",
       "195612  (42.30189690, -71.08554944)  \n",
       "195613  (42.30189690, -71.08554944)  \n",
       "195614  (42.35231190, -71.06370510)  \n",
       "195615  (42.35231190, -71.06370510)  \n",
       "195616  (42.35231190, -71.06370510)  \n",
       "195617  (42.33695098, -71.08574813)  \n",
       "195618  (42.25592648, -71.12317207)  \n",
       "195619  (42.25592648, -71.12317207)  \n",
       "195620  (42.30233307, -71.11156487)  \n",
       "195621  (42.33383935, -71.08029038)  \n",
       "\n",
       "[195622 rows x 17 columns]"
      ]
     },
     "execution_count": 97,
     "metadata": {},
     "output_type": "execute_result"
    }
   ],
   "source": [
    "crime"
   ]
  },
  {
   "cell_type": "markdown",
   "metadata": {},
   "source": [
    "# Toss out the records that don't have coordinates'"
   ]
  },
  {
   "cell_type": "code",
   "execution_count": 78,
   "metadata": {
    "collapsed": false
   },
   "outputs": [],
   "source": [
    "bad_coords = ((crime['Lat'] < 42)|np.isnan(crime['Lat'])|(crime['Lat'] > 43)|(crime['Long'] < -72)|(crime_goodlats['Long'] > -70)|np.isnan(crime['Long']))\n",
    "#print sum(wrong_or_nanlats)\n",
    "crime_goodcoords = crime[np.invert(bad_coords)]"
   ]
  },
  {
   "cell_type": "markdown",
   "metadata": {},
   "source": [
    "# Create histograms of crime_goodcoords"
   ]
  },
  {
   "cell_type": "code",
   "execution_count": null,
   "metadata": {
    "collapsed": true
   },
   "outputs": [],
   "source": [
    "hist, x_edges, y_edges = np.histogram2d(gamma_list, k23_list, bins=50)"
   ]
  },
  {
   "cell_type": "code",
   "execution_count": null,
   "metadata": {
    "collapsed": true
   },
   "outputs": [],
   "source": []
  },
  {
   "cell_type": "markdown",
   "metadata": {},
   "source": [
    "# Create a scatter plot of crime_goodcoords"
   ]
  },
  {
   "cell_type": "markdown",
   "metadata": {},
   "source": [
    "plt.figure()\n",
    "crime_goodlats.plot(x = 'Long', y = 'Lat',kind = 'scatter')"
   ]
  },
  {
   "cell_type": "code",
   "execution_count": 94,
   "metadata": {
    "collapsed": false
   },
   "outputs": [
    {
     "data": {
      "image/png": "[encoded data removed]",
      "text/plain": [
       "<matplotlib.figure.Figure at 0x190f9160>"
      ]
     },
     "metadata": {},
     "output_type": "display_data"
    }
   ],
   "source": [
    "plt.scatter(x = crime_goodlats.Long,y = crime_goodlats.Lat, s= 0.5)\n",
    "plt.xlabel('Longitude')\n",
    "plt.ylabel('Latitiude')\n",
    "plt.title('Crime scatter plot')\n",
    "plt.show()"
   ]
  },
  {
   "cell_type": "markdown",
   "metadata": {},
   "source": [
    "Now group the crime_goodLats by offence type and create scatter plots of these by OFFENCE_CODE_GROUP:"
   ]
  },
  {
   "cell_type": "markdown",
   "metadata": {},
   "source": [
    "# Plot scatter plots of all the offences on top of each other:"
   ]
  },
  {
   "cell_type": "markdown",
   "metadata": {
    "collapsed": false
   },
   "source": [
    "colors = dict(mcolors.BASE_COLORS, **mcolors.CSS4_COLORS)\n",
    "grouped_cg = crime_goodlats.groupby('OFFENSE_CODE_GROUP') \n",
    "i = 0\n",
    "for crime_type,group in grouped_crimes:\n",
    "    plt.scatter(x = crime_goodlats.Long,y = crime_goodlats.Lat, s= 0.5,c = mycolors[i])\n",
    "    i += 1\n",
    "plt.xlabel('Longitude')\n",
    "plt.ylabel('Latitiude')\n",
    "plt.title('Crime scatter plot')\n",
    "plt.show()\n"
   ]
  },
  {
   "cell_type": "markdown",
   "metadata": {},
   "source": [
    "crime.OFFENSE_CODE_GROUP.value_counts()"
   ]
  },
  {
   "cell_type": "code",
   "execution_count": 96,
   "metadata": {
    "collapsed": false
   },
   "outputs": [
    {
     "data": {
      "text/plain": [
       "(-71.178673779999997,\n",
       " -70.963676149999998,\n",
       " 42.232413299999997,\n",
       " 42.395041579999997)"
      ]
     },
     "execution_count": 96,
     "metadata": {},
     "output_type": "execute_result"
    },
    {
     "data": {
      "image/png": "[encoded data removed]",
      "text/plain": [
       "<matplotlib.figure.Figure at 0x131dd048>"
      ]
     },
     "metadata": {},
     "output_type": "display_data"
    }
   ],
   "source": [
    "hist, x_edges, y_edges = np.histogram2d(crime_goodcoords.Long,crime_goodcoords.Lat,bins = 50)\n",
    "X, Y = np.meshgrid(x_edges,y_edges)\n",
    "plt.pcolormesh(X, Y, hist)\n",
    "plt.xlabel('Long')\n",
    "plt.ylabel('Lat')\n",
    "plt.axis('equal')"
   ]
  },
  {
   "cell_type": "code",
   "execution_count": 92,
   "metadata": {
    "collapsed": false
   },
   "outputs": [],
   "source": [
    "#plt.hist(crime_goodcoords.Lat,bins = 50)"
   ]
  },
  {
   "cell_type": "code",
   "execution_count": 93,
   "metadata": {
    "collapsed": false
   },
   "outputs": [],
   "source": [
    "#crime.SHOOTING.value_counts(dropna = False)"
   ]
  },
  {
   "cell_type": "code",
   "execution_count": 99,
   "metadata": {
    "collapsed": false
   },
   "outputs": [],
   "source": [
    "crime_types = crime.OFFENSE_CODE_GROUP.value_counts()"
   ]
  },
  {
   "cell_type": "code",
   "execution_count": 100,
   "metadata": {
    "collapsed": false
   },
   "outputs": [
    {
     "data": {
      "text/plain": [
       "67"
      ]
     },
     "execution_count": 100,
     "metadata": {},
     "output_type": "execute_result"
    }
   ],
   "source": [
    "len(crime_types)"
   ]
  },
  {
   "cell_type": "code",
   "execution_count": 101,
   "metadata": {
    "collapsed": false
   },
   "outputs": [
    {
     "data": {
      "text/plain": [
       "Friday       29630\n",
       "Tuesday      28611\n",
       "Wednesday    28564\n",
       "Thursday     28459\n",
       "Monday       28213\n",
       "Saturday     27426\n",
       "Sunday       24719\n",
       "Name: DAY_OF_WEEK, dtype: int64"
      ]
     },
     "execution_count": 101,
     "metadata": {},
     "output_type": "execute_result"
    }
   ],
   "source": [
    "crime.DAY_OF_WEEK.value_counts()"
   ]
  },
  {
   "cell_type": "code",
   "execution_count": 102,
   "metadata": {
    "collapsed": false
   },
   "outputs": [],
   "source": [
    "grouped_crimes = crime.groupby('OFFENSE_CODE_GROUP')"
   ]
  },
  {
   "cell_type": "code",
   "execution_count": 103,
   "metadata": {
    "collapsed": false
   },
   "outputs": [],
   "source": [
    "t = (pd.DataFrame(group.DAY_OF_WEEK.value_counts()) for crime_type,group in grouped_crimes)"
   ]
  },
  {
   "cell_type": "code",
   "execution_count": 104,
   "metadata": {
    "collapsed": false,
    "scrolled": true
   },
   "outputs": [],
   "source": [
    "days_frame = pd.DataFrame()\n",
    "for crime_type,group in grouped_crimes:\n",
    "    day_count = group.DAY_OF_WEEK.value_counts()\n",
    "    weekdays = map(str,day_count.index.values)\n",
    "    day_count_array = day_count.values\n",
    "    this_df = pd.DataFrame(data = day_count_array.reshape(1,len(day_count_array)),index = [crime_type],columns = weekdays)\n",
    "    days_frame = pd.concat([days_frame,this_df],axis = 0)\n",
    "    #print type(group)\n",
    "    #print crime_type\n",
    "    #days.index.values = crime_type\n",
    "    #days_frame = days_frame.append(days) \n",
    "    "
   ]
  },
  {
   "cell_type": "code",
   "execution_count": 105,
   "metadata": {
    "collapsed": false,
    "scrolled": true
   },
   "outputs": [
    {
     "data": {
      "text/html": [
       "<div>\n",
       "<table border=\"1\" class=\"dataframe\">\n",
       "  <thead>\n",
       "    <tr style=\"text-align: right;\">\n",
       "      <th></th>\n",
       "      <th>Friday</th>\n",
       "      <th>Monday</th>\n",
       "      <th>Saturday</th>\n",
       "      <th>Sunday</th>\n",
       "      <th>Thursday</th>\n",
       "      <th>Tuesday</th>\n",
       "      <th>Wednesday</th>\n",
       "    </tr>\n",
       "  </thead>\n",
       "  <tbody>\n",
       "    <tr>\n",
       "      <th>Aggravated Assault</th>\n",
       "      <td>671.0</td>\n",
       "      <td>613.0</td>\n",
       "      <td>776.0</td>\n",
       "      <td>750.0</td>\n",
       "      <td>685.0</td>\n",
       "      <td>640.0</td>\n",
       "      <td>612.0</td>\n",
       "    </tr>\n",
       "    <tr>\n",
       "      <th>Aircraft</th>\n",
       "      <td>2.0</td>\n",
       "      <td>NaN</td>\n",
       "      <td>3.0</td>\n",
       "      <td>3.0</td>\n",
       "      <td>2.0</td>\n",
       "      <td>4.0</td>\n",
       "      <td>3.0</td>\n",
       "    </tr>\n",
       "    <tr>\n",
       "      <th>Arson</th>\n",
       "      <td>3.0</td>\n",
       "      <td>7.0</td>\n",
       "      <td>12.0</td>\n",
       "      <td>9.0</td>\n",
       "      <td>14.0</td>\n",
       "      <td>6.0</td>\n",
       "      <td>7.0</td>\n",
       "    </tr>\n",
       "    <tr>\n",
       "      <th>Assembly or Gathering Violations</th>\n",
       "      <td>105.0</td>\n",
       "      <td>69.0</td>\n",
       "      <td>224.0</td>\n",
       "      <td>148.0</td>\n",
       "      <td>42.0</td>\n",
       "      <td>42.0</td>\n",
       "      <td>48.0</td>\n",
       "    </tr>\n",
       "    <tr>\n",
       "      <th>Auto Theft</th>\n",
       "      <td>446.0</td>\n",
       "      <td>441.0</td>\n",
       "      <td>411.0</td>\n",
       "      <td>433.0</td>\n",
       "      <td>426.0</td>\n",
       "      <td>419.0</td>\n",
       "      <td>420.0</td>\n",
       "    </tr>\n",
       "    <tr>\n",
       "      <th>Auto Theft Recovery</th>\n",
       "      <td>91.0</td>\n",
       "      <td>84.0</td>\n",
       "      <td>77.0</td>\n",
       "      <td>74.0</td>\n",
       "      <td>99.0</td>\n",
       "      <td>86.0</td>\n",
       "      <td>101.0</td>\n",
       "    </tr>\n",
       "    <tr>\n",
       "      <th>Ballistics</th>\n",
       "      <td>81.0</td>\n",
       "      <td>84.0</td>\n",
       "      <td>114.0</td>\n",
       "      <td>98.0</td>\n",
       "      <td>78.0</td>\n",
       "      <td>86.0</td>\n",
       "      <td>70.0</td>\n",
       "    </tr>\n",
       "    <tr>\n",
       "      <th>Bomb Hoax</th>\n",
       "      <td>14.0</td>\n",
       "      <td>12.0</td>\n",
       "      <td>5.0</td>\n",
       "      <td>2.0</td>\n",
       "      <td>12.0</td>\n",
       "      <td>10.0</td>\n",
       "      <td>8.0</td>\n",
       "    </tr>\n",
       "    <tr>\n",
       "      <th>Burglary - No Property Taken</th>\n",
       "      <td>NaN</td>\n",
       "      <td>1.0</td>\n",
       "      <td>NaN</td>\n",
       "      <td>NaN</td>\n",
       "      <td>NaN</td>\n",
       "      <td>1.0</td>\n",
       "      <td>NaN</td>\n",
       "    </tr>\n",
       "    <tr>\n",
       "      <th>Commercial Burglary</th>\n",
       "      <td>124.0</td>\n",
       "      <td>132.0</td>\n",
       "      <td>131.0</td>\n",
       "      <td>124.0</td>\n",
       "      <td>100.0</td>\n",
       "      <td>136.0</td>\n",
       "      <td>123.0</td>\n",
       "    </tr>\n",
       "    <tr>\n",
       "      <th>...</th>\n",
       "      <td>...</td>\n",
       "      <td>...</td>\n",
       "      <td>...</td>\n",
       "      <td>...</td>\n",
       "      <td>...</td>\n",
       "      <td>...</td>\n",
       "      <td>...</td>\n",
       "    </tr>\n",
       "    <tr>\n",
       "      <th>Robbery</th>\n",
       "      <td>480.0</td>\n",
       "      <td>419.0</td>\n",
       "      <td>417.0</td>\n",
       "      <td>469.0</td>\n",
       "      <td>425.0</td>\n",
       "      <td>441.0</td>\n",
       "      <td>398.0</td>\n",
       "    </tr>\n",
       "    <tr>\n",
       "      <th>Search Warrants</th>\n",
       "      <td>104.0</td>\n",
       "      <td>94.0</td>\n",
       "      <td>47.0</td>\n",
       "      <td>15.0</td>\n",
       "      <td>120.0</td>\n",
       "      <td>118.0</td>\n",
       "      <td>110.0</td>\n",
       "    </tr>\n",
       "    <tr>\n",
       "      <th>Service</th>\n",
       "      <td>17.0</td>\n",
       "      <td>19.0</td>\n",
       "      <td>28.0</td>\n",
       "      <td>24.0</td>\n",
       "      <td>20.0</td>\n",
       "      <td>28.0</td>\n",
       "      <td>30.0</td>\n",
       "    </tr>\n",
       "    <tr>\n",
       "      <th>Sex Offender Registration</th>\n",
       "      <td>61.0</td>\n",
       "      <td>91.0</td>\n",
       "      <td>18.0</td>\n",
       "      <td>11.0</td>\n",
       "      <td>72.0</td>\n",
       "      <td>105.0</td>\n",
       "      <td>87.0</td>\n",
       "    </tr>\n",
       "    <tr>\n",
       "      <th>Simple Assault</th>\n",
       "      <td>1444.0</td>\n",
       "      <td>1214.0</td>\n",
       "      <td>1418.0</td>\n",
       "      <td>1470.0</td>\n",
       "      <td>1297.0</td>\n",
       "      <td>1265.0</td>\n",
       "      <td>1282.0</td>\n",
       "    </tr>\n",
       "    <tr>\n",
       "      <th>Towed</th>\n",
       "      <td>913.0</td>\n",
       "      <td>1001.0</td>\n",
       "      <td>1050.0</td>\n",
       "      <td>878.0</td>\n",
       "      <td>960.0</td>\n",
       "      <td>917.0</td>\n",
       "      <td>819.0</td>\n",
       "    </tr>\n",
       "    <tr>\n",
       "      <th>Vandalism</th>\n",
       "      <td>1464.0</td>\n",
       "      <td>1395.0</td>\n",
       "      <td>1581.0</td>\n",
       "      <td>1564.0</td>\n",
       "      <td>1317.0</td>\n",
       "      <td>1299.0</td>\n",
       "      <td>1336.0</td>\n",
       "    </tr>\n",
       "    <tr>\n",
       "      <th>Verbal Disputes</th>\n",
       "      <td>1031.0</td>\n",
       "      <td>1104.0</td>\n",
       "      <td>1076.0</td>\n",
       "      <td>1150.0</td>\n",
       "      <td>1050.0</td>\n",
       "      <td>1057.0</td>\n",
       "      <td>1034.0</td>\n",
       "    </tr>\n",
       "    <tr>\n",
       "      <th>Violations</th>\n",
       "      <td>617.0</td>\n",
       "      <td>583.0</td>\n",
       "      <td>579.0</td>\n",
       "      <td>422.0</td>\n",
       "      <td>561.0</td>\n",
       "      <td>624.0</td>\n",
       "      <td>594.0</td>\n",
       "    </tr>\n",
       "    <tr>\n",
       "      <th>Warrant Arrests</th>\n",
       "      <td>746.0</td>\n",
       "      <td>747.0</td>\n",
       "      <td>488.0</td>\n",
       "      <td>379.0</td>\n",
       "      <td>836.0</td>\n",
       "      <td>864.0</td>\n",
       "      <td>813.0</td>\n",
       "    </tr>\n",
       "  </tbody>\n",
       "</table>\n",
       "<p>67 rows × 7 columns</p>\n",
       "</div>"
      ],
      "text/plain": [
       "                                  Friday  Monday  Saturday  Sunday  Thursday  \\\n",
       "Aggravated Assault                 671.0   613.0     776.0   750.0     685.0   \n",
       "Aircraft                             2.0     NaN       3.0     3.0       2.0   \n",
       "Arson                                3.0     7.0      12.0     9.0      14.0   \n",
       "Assembly or Gathering Violations   105.0    69.0     224.0   148.0      42.0   \n",
       "Auto Theft                         446.0   441.0     411.0   433.0     426.0   \n",
       "Auto Theft Recovery                 91.0    84.0      77.0    74.0      99.0   \n",
       "Ballistics                          81.0    84.0     114.0    98.0      78.0   \n",
       "Bomb Hoax                           14.0    12.0       5.0     2.0      12.0   \n",
       "Burglary - No Property Taken         NaN     1.0       NaN     NaN       NaN   \n",
       "Commercial Burglary                124.0   132.0     131.0   124.0     100.0   \n",
       "...                                  ...     ...       ...     ...       ...   \n",
       "Robbery                            480.0   419.0     417.0   469.0     425.0   \n",
       "Search Warrants                    104.0    94.0      47.0    15.0     120.0   \n",
       "Service                             17.0    19.0      28.0    24.0      20.0   \n",
       "Sex Offender Registration           61.0    91.0      18.0    11.0      72.0   \n",
       "Simple Assault                    1444.0  1214.0    1418.0  1470.0    1297.0   \n",
       "Towed                              913.0  1001.0    1050.0   878.0     960.0   \n",
       "Vandalism                         1464.0  1395.0    1581.0  1564.0    1317.0   \n",
       "Verbal Disputes                   1031.0  1104.0    1076.0  1150.0    1050.0   \n",
       "Violations                         617.0   583.0     579.0   422.0     561.0   \n",
       "Warrant Arrests                    746.0   747.0     488.0   379.0     836.0   \n",
       "\n",
       "                                  Tuesday  Wednesday  \n",
       "Aggravated Assault                  640.0      612.0  \n",
       "Aircraft                              4.0        3.0  \n",
       "Arson                                 6.0        7.0  \n",
       "Assembly or Gathering Violations     42.0       48.0  \n",
       "Auto Theft                          419.0      420.0  \n",
       "Auto Theft Recovery                  86.0      101.0  \n",
       "Ballistics                           86.0       70.0  \n",
       "Bomb Hoax                            10.0        8.0  \n",
       "Burglary - No Property Taken          1.0        NaN  \n",
       "Commercial Burglary                 136.0      123.0  \n",
       "...                                   ...        ...  \n",
       "Robbery                             441.0      398.0  \n",
       "Search Warrants                     118.0      110.0  \n",
       "Service                              28.0       30.0  \n",
       "Sex Offender Registration           105.0       87.0  \n",
       "Simple Assault                     1265.0     1282.0  \n",
       "Towed                               917.0      819.0  \n",
       "Vandalism                          1299.0     1336.0  \n",
       "Verbal Disputes                    1057.0     1034.0  \n",
       "Violations                          624.0      594.0  \n",
       "Warrant Arrests                     864.0      813.0  \n",
       "\n",
       "[67 rows x 7 columns]"
      ]
     },
     "execution_count": 105,
     "metadata": {},
     "output_type": "execute_result"
    }
   ],
   "source": [
    "days_frame"
   ]
  },
  {
   "cell_type": "code",
   "execution_count": 112,
   "metadata": {
    "collapsed": false
   },
   "outputs": [
    {
     "name": "stdout",
     "output_type": "stream",
     "text": [
      "Friday       671.0\n",
      "Monday       613.0\n",
      "Saturday     776.0\n",
      "Sunday       750.0\n",
      "Thursday     685.0\n",
      "Tuesday      640.0\n",
      "Wednesday    612.0\n",
      "Name: Aggravated Assault, dtype: float64\n"
     ]
    }
   ],
   "source": [
    "aux = days_frame.ix['Aggravated Assault',:]\n",
    "print aux"
   ]
  },
  {
   "cell_type": "code",
   "execution_count": 115,
   "metadata": {
    "collapsed": false
   },
   "outputs": [
    {
     "data": {
      "text/plain": [
       "<matplotlib.collections.PathCollection at 0x18f3cf28>"
      ]
     },
     "execution_count": 115,
     "metadata": {},
     "output_type": "execute_result"
    },
    {
     "data": {
      "image/png": "[encoded data removed]",
      "text/plain": [
       "<matplotlib.figure.Figure at 0x193ac400>"
      ]
     },
     "metadata": {},
     "output_type": "display_data"
    }
   ],
   "source": [
    "plt.scatter(range(7),aux.values)"
   ]
  },
  {
   "cell_type": "code",
   "execution_count": 114,
   "metadata": {
    "collapsed": false
   },
   "outputs": [
    {
     "data": {
      "text/plain": [
       "array([ 671.,  613.,  776.,  750.,  685.,  640.,  612.])"
      ]
     },
     "execution_count": 114,
     "metadata": {},
     "output_type": "execute_result"
    }
   ],
   "source": [
    "aux.values"
   ]
  },
  {
   "cell_type": "code",
   "execution_count": 103,
   "metadata": {
    "collapsed": false
   },
   "outputs": [
    {
     "data": {
      "text/html": [
       "<div>\n",
       "<table border=\"1\" class=\"dataframe\">\n",
       "  <thead>\n",
       "    <tr style=\"text-align: right;\">\n",
       "      <th></th>\n",
       "      <th>Tuesday</th>\n",
       "      <th>Thursday</th>\n",
       "      <th>Wednesday</th>\n",
       "      <th>Monday</th>\n",
       "      <th>Friday</th>\n",
       "      <th>Saturday</th>\n",
       "      <th>Sunday</th>\n",
       "    </tr>\n",
       "  </thead>\n",
       "  <tbody>\n",
       "    <tr>\n",
       "      <th>Warrant Arrests</th>\n",
       "      <td>864</td>\n",
       "      <td>836</td>\n",
       "      <td>813</td>\n",
       "      <td>747</td>\n",
       "      <td>746</td>\n",
       "      <td>488</td>\n",
       "      <td>379</td>\n",
       "    </tr>\n",
       "  </tbody>\n",
       "</table>\n",
       "</div>"
      ],
      "text/plain": [
       "                 Tuesday  Thursday  Wednesday  Monday  Friday  Saturday  \\\n",
       "Warrant Arrests      864       836        813     747     746       488   \n",
       "\n",
       "                 Sunday  \n",
       "Warrant Arrests     379  "
      ]
     },
     "execution_count": 103,
     "metadata": {},
     "output_type": "execute_result"
    }
   ],
   "source": [
    "pd.DataFrame(data = day_count.values.reshape(1,7),index = [crime_type],columns = weekdays)"
   ]
  },
  {
   "cell_type": "code",
   "execution_count": 96,
   "metadata": {
    "collapsed": false
   },
   "outputs": [
    {
     "data": {
      "text/plain": [
       "array([864, 836, 813, 747, 746, 488, 379], dtype=int64)"
      ]
     },
     "execution_count": 96,
     "metadata": {},
     "output_type": "execute_result"
    }
   ],
   "source": [
    "day_count.values"
   ]
  },
  {
   "cell_type": "code",
   "execution_count": 61,
   "metadata": {
    "collapsed": true
   },
   "outputs": [],
   "source": [
    "days = pd.DataFrame(day_count).T"
   ]
  },
  {
   "cell_type": "code",
   "execution_count": 62,
   "metadata": {
    "collapsed": false
   },
   "outputs": [
    {
     "data": {
      "text/html": [
       "<div>\n",
       "<table border=\"1\" class=\"dataframe\">\n",
       "  <thead>\n",
       "    <tr style=\"text-align: right;\">\n",
       "      <th></th>\n",
       "      <th>Tuesday</th>\n",
       "      <th>Thursday</th>\n",
       "      <th>Wednesday</th>\n",
       "      <th>Monday</th>\n",
       "      <th>Friday</th>\n",
       "      <th>Saturday</th>\n",
       "      <th>Sunday</th>\n",
       "    </tr>\n",
       "  </thead>\n",
       "  <tbody>\n",
       "    <tr>\n",
       "      <th>DAY_OF_WEEK</th>\n",
       "      <td>864</td>\n",
       "      <td>836</td>\n",
       "      <td>813</td>\n",
       "      <td>747</td>\n",
       "      <td>746</td>\n",
       "      <td>488</td>\n",
       "      <td>379</td>\n",
       "    </tr>\n",
       "  </tbody>\n",
       "</table>\n",
       "</div>"
      ],
      "text/plain": [
       "             Tuesday  Thursday  Wednesday  Monday  Friday  Saturday  Sunday\n",
       "DAY_OF_WEEK      864       836        813     747     746       488     379"
      ]
     },
     "execution_count": 62,
     "metadata": {},
     "output_type": "execute_result"
    }
   ],
   "source": [
    "days"
   ]
  },
  {
   "cell_type": "code",
   "execution_count": 63,
   "metadata": {
    "collapsed": false
   },
   "outputs": [],
   "source": [
    "days.index.names = ['0']"
   ]
  },
  {
   "cell_type": "code",
   "execution_count": 75,
   "metadata": {
    "collapsed": false
   },
   "outputs": [],
   "source": [
    "choss = pd.DataFrame(data = crime_type,index = ['0'],columns= ['Crime Type'])"
   ]
  },
  {
   "cell_type": "code",
   "execution_count": 76,
   "metadata": {
    "collapsed": false
   },
   "outputs": [
    {
     "data": {
      "text/html": [
       "<div>\n",
       "<table border=\"1\" class=\"dataframe\">\n",
       "  <thead>\n",
       "    <tr style=\"text-align: right;\">\n",
       "      <th></th>\n",
       "      <th>Crime Type</th>\n",
       "    </tr>\n",
       "  </thead>\n",
       "  <tbody>\n",
       "    <tr>\n",
       "      <th>0</th>\n",
       "      <td>Warrant Arrests</td>\n",
       "    </tr>\n",
       "  </tbody>\n",
       "</table>\n",
       "</div>"
      ],
      "text/plain": [
       "        Crime Type\n",
       "0  Warrant Arrests"
      ]
     },
     "execution_count": 76,
     "metadata": {},
     "output_type": "execute_result"
    }
   ],
   "source": [
    "choss"
   ]
  },
  {
   "cell_type": "code",
   "execution_count": 80,
   "metadata": {
    "collapsed": false
   },
   "outputs": [],
   "source": [
    "an = pd.concat([days,choss],axis = 1)"
   ]
  },
  {
   "cell_type": "code",
   "execution_count": 81,
   "metadata": {
    "collapsed": false
   },
   "outputs": [
    {
     "data": {
      "text/html": [
       "<div>\n",
       "<table border=\"1\" class=\"dataframe\">\n",
       "  <thead>\n",
       "    <tr style=\"text-align: right;\">\n",
       "      <th></th>\n",
       "      <th>Tuesday</th>\n",
       "      <th>Thursday</th>\n",
       "      <th>Wednesday</th>\n",
       "      <th>Monday</th>\n",
       "      <th>Friday</th>\n",
       "      <th>Saturday</th>\n",
       "      <th>Sunday</th>\n",
       "      <th>Crime Type</th>\n",
       "    </tr>\n",
       "  </thead>\n",
       "  <tbody>\n",
       "    <tr>\n",
       "      <th>0</th>\n",
       "      <td>NaN</td>\n",
       "      <td>NaN</td>\n",
       "      <td>NaN</td>\n",
       "      <td>NaN</td>\n",
       "      <td>NaN</td>\n",
       "      <td>NaN</td>\n",
       "      <td>NaN</td>\n",
       "      <td>Warrant Arrests</td>\n",
       "    </tr>\n",
       "    <tr>\n",
       "      <th>DAY_OF_WEEK</th>\n",
       "      <td>864.0</td>\n",
       "      <td>836.0</td>\n",
       "      <td>813.0</td>\n",
       "      <td>747.0</td>\n",
       "      <td>746.0</td>\n",
       "      <td>488.0</td>\n",
       "      <td>379.0</td>\n",
       "      <td>NaN</td>\n",
       "    </tr>\n",
       "  </tbody>\n",
       "</table>\n",
       "</div>"
      ],
      "text/plain": [
       "             Tuesday  Thursday  Wednesday  Monday  Friday  Saturday  Sunday  \\\n",
       "0                NaN       NaN        NaN     NaN     NaN       NaN     NaN   \n",
       "DAY_OF_WEEK    864.0     836.0      813.0   747.0   746.0     488.0   379.0   \n",
       "\n",
       "                  Crime Type  \n",
       "0            Warrant Arrests  \n",
       "DAY_OF_WEEK              NaN  "
      ]
     },
     "execution_count": 81,
     "metadata": {},
     "output_type": "execute_result"
    }
   ],
   "source": [
    "an"
   ]
  },
  {
   "cell_type": "code",
   "execution_count": 40,
   "metadata": {
    "collapsed": false
   },
   "outputs": [
    {
     "data": {
      "text/html": [
       "<div>\n",
       "<table border=\"1\" class=\"dataframe\">\n",
       "  <thead>\n",
       "    <tr style=\"text-align: right;\">\n",
       "      <th></th>\n",
       "      <th>Tuesday</th>\n",
       "      <th>Thursday</th>\n",
       "      <th>Wednesday</th>\n",
       "      <th>Monday</th>\n",
       "      <th>Friday</th>\n",
       "      <th>Saturday</th>\n",
       "      <th>Sunday</th>\n",
       "    </tr>\n",
       "    <tr>\n",
       "      <th>goozz</th>\n",
       "      <th></th>\n",
       "      <th></th>\n",
       "      <th></th>\n",
       "      <th></th>\n",
       "      <th></th>\n",
       "      <th></th>\n",
       "      <th></th>\n",
       "    </tr>\n",
       "  </thead>\n",
       "  <tbody>\n",
       "    <tr>\n",
       "      <th>DAY_OF_WEEK</th>\n",
       "      <td>864</td>\n",
       "      <td>836</td>\n",
       "      <td>813</td>\n",
       "      <td>747</td>\n",
       "      <td>746</td>\n",
       "      <td>488</td>\n",
       "      <td>379</td>\n",
       "    </tr>\n",
       "  </tbody>\n",
       "</table>\n",
       "</div>"
      ],
      "text/plain": [
       "             Tuesday  Thursday  Wednesday  Monday  Friday  Saturday  Sunday\n",
       "goozz                                                                      \n",
       "DAY_OF_WEEK      864       836        813     747     746       488     379"
      ]
     },
     "execution_count": 40,
     "metadata": {},
     "output_type": "execute_result"
    }
   ],
   "source": []
  },
  {
   "cell_type": "code",
   "execution_count": 38,
   "metadata": {
    "collapsed": false
   },
   "outputs": [
    {
     "data": {
      "text/html": [
       "<div>\n",
       "<table border=\"1\" class=\"dataframe\">\n",
       "  <thead>\n",
       "    <tr style=\"text-align: right;\">\n",
       "      <th></th>\n",
       "      <th>Tuesday</th>\n",
       "      <th>Thursday</th>\n",
       "      <th>Wednesday</th>\n",
       "      <th>Monday</th>\n",
       "      <th>Friday</th>\n",
       "      <th>Saturday</th>\n",
       "      <th>Sunday</th>\n",
       "    </tr>\n",
       "  </thead>\n",
       "  <tbody>\n",
       "    <tr>\n",
       "      <th>DAY_OF_WEEK</th>\n",
       "      <td>864</td>\n",
       "      <td>836</td>\n",
       "      <td>813</td>\n",
       "      <td>747</td>\n",
       "      <td>746</td>\n",
       "      <td>488</td>\n",
       "      <td>379</td>\n",
       "    </tr>\n",
       "  </tbody>\n",
       "</table>\n",
       "</div>"
      ],
      "text/plain": [
       "             Tuesday  Thursday  Wednesday  Monday  Friday  Saturday  Sunday\n",
       "DAY_OF_WEEK      864       836        813     747     746       488     379"
      ]
     },
     "execution_count": 38,
     "metadata": {},
     "output_type": "execute_result"
    }
   ],
   "source": [
    "days.rename(index = {0:'gooz'})"
   ]
  },
  {
   "cell_type": "code",
   "execution_count": null,
   "metadata": {
    "collapsed": true
   },
   "outputs": [],
   "source": [
    "days"
   ]
  },
  {
   "cell_type": "code",
   "execution_count": 26,
   "metadata": {
    "collapsed": false
   },
   "outputs": [
    {
     "data": {
      "text/html": [
       "<div>\n",
       "<table border=\"1\" class=\"dataframe\">\n",
       "  <thead>\n",
       "    <tr style=\"text-align: right;\">\n",
       "      <th></th>\n",
       "      <th>INCIDENT_NUMBER</th>\n",
       "      <th>OFFENSE_CODE</th>\n",
       "      <th>OFFENSE_CODE_GROUP</th>\n",
       "      <th>OFFENSE_DESCRIPTION</th>\n",
       "      <th>DISTRICT</th>\n",
       "      <th>REPORTING_AREA</th>\n",
       "      <th>SHOOTING</th>\n",
       "      <th>OCCURRED_ON_DATE</th>\n",
       "      <th>YEAR</th>\n",
       "      <th>MONTH</th>\n",
       "      <th>DAY_OF_WEEK</th>\n",
       "      <th>HOUR</th>\n",
       "      <th>UCR_PART</th>\n",
       "      <th>STREET</th>\n",
       "      <th>Lat</th>\n",
       "      <th>Long</th>\n",
       "      <th>Location</th>\n",
       "    </tr>\n",
       "  </thead>\n",
       "  <tbody>\n",
       "    <tr>\n",
       "      <th>21258</th>\n",
       "      <td>I172024049</td>\n",
       "      <td>3122</td>\n",
       "      <td>Aircraft</td>\n",
       "      <td>AIRCRAFT INCIDENTS</td>\n",
       "      <td>A7</td>\n",
       "      <td>36</td>\n",
       "      <td>NaN</td>\n",
       "      <td>2017-03-28 11:24:00</td>\n",
       "      <td>2017</td>\n",
       "      <td>3</td>\n",
       "      <td>Tuesday</td>\n",
       "      <td>11</td>\n",
       "      <td>Part Three</td>\n",
       "      <td>PRESCOTT ST</td>\n",
       "      <td>42.375258</td>\n",
       "      <td>-71.024663</td>\n",
       "      <td>(42.37525782, -71.02466343)</td>\n",
       "    </tr>\n",
       "    <tr>\n",
       "      <th>22851</th>\n",
       "      <td>I172022364</td>\n",
       "      <td>3122</td>\n",
       "      <td>Aircraft</td>\n",
       "      <td>AIRCRAFT INCIDENTS</td>\n",
       "      <td>A7</td>\n",
       "      <td>36</td>\n",
       "      <td>NaN</td>\n",
       "      <td>2017-03-22 10:59:00</td>\n",
       "      <td>2017</td>\n",
       "      <td>3</td>\n",
       "      <td>Wednesday</td>\n",
       "      <td>10</td>\n",
       "      <td>Part Three</td>\n",
       "      <td>PRESCOTT ST</td>\n",
       "      <td>42.375258</td>\n",
       "      <td>-71.024663</td>\n",
       "      <td>(42.37525782, -71.02466343)</td>\n",
       "    </tr>\n",
       "    <tr>\n",
       "      <th>...</th>\n",
       "      <td>...</td>\n",
       "      <td>...</td>\n",
       "      <td>...</td>\n",
       "      <td>...</td>\n",
       "      <td>...</td>\n",
       "      <td>...</td>\n",
       "      <td>...</td>\n",
       "      <td>...</td>\n",
       "      <td>...</td>\n",
       "      <td>...</td>\n",
       "      <td>...</td>\n",
       "      <td>...</td>\n",
       "      <td>...</td>\n",
       "      <td>...</td>\n",
       "      <td>...</td>\n",
       "      <td>...</td>\n",
       "      <td>...</td>\n",
       "    </tr>\n",
       "    <tr>\n",
       "      <th>148383</th>\n",
       "      <td>I152101381</td>\n",
       "      <td>3122</td>\n",
       "      <td>Aircraft</td>\n",
       "      <td>AIRCRAFT INCIDENTS</td>\n",
       "      <td>A7</td>\n",
       "      <td>36</td>\n",
       "      <td>NaN</td>\n",
       "      <td>2015-12-08 13:42:00</td>\n",
       "      <td>2015</td>\n",
       "      <td>12</td>\n",
       "      <td>Tuesday</td>\n",
       "      <td>13</td>\n",
       "      <td>Part Three</td>\n",
       "      <td>PRESCOTT ST</td>\n",
       "      <td>42.375258</td>\n",
       "      <td>-71.024663</td>\n",
       "      <td>(42.37525782, -71.02466343)</td>\n",
       "    </tr>\n",
       "    <tr>\n",
       "      <th>178375</th>\n",
       "      <td>I152068526</td>\n",
       "      <td>3122</td>\n",
       "      <td>Aircraft</td>\n",
       "      <td>AIRCRAFT INCIDENTS</td>\n",
       "      <td>D4</td>\n",
       "      <td>624</td>\n",
       "      <td>NaN</td>\n",
       "      <td>2015-08-18 21:50:00</td>\n",
       "      <td>2015</td>\n",
       "      <td>8</td>\n",
       "      <td>Tuesday</td>\n",
       "      <td>21</td>\n",
       "      <td>Part Three</td>\n",
       "      <td>BOYLSTON ST</td>\n",
       "      <td>42.344896</td>\n",
       "      <td>-71.096592</td>\n",
       "      <td>(42.34489594, -71.09659186)</td>\n",
       "    </tr>\n",
       "  </tbody>\n",
       "</table>\n",
       "<p>17 rows × 17 columns</p>\n",
       "</div>"
      ],
      "text/plain": [
       "       INCIDENT_NUMBER  OFFENSE_CODE OFFENSE_CODE_GROUP OFFENSE_DESCRIPTION  \\\n",
       "21258       I172024049          3122           Aircraft  AIRCRAFT INCIDENTS   \n",
       "22851       I172022364          3122           Aircraft  AIRCRAFT INCIDENTS   \n",
       "...                ...           ...                ...                 ...   \n",
       "148383      I152101381          3122           Aircraft  AIRCRAFT INCIDENTS   \n",
       "178375      I152068526          3122           Aircraft  AIRCRAFT INCIDENTS   \n",
       "\n",
       "       DISTRICT REPORTING_AREA SHOOTING     OCCURRED_ON_DATE  YEAR  MONTH  \\\n",
       "21258        A7             36      NaN  2017-03-28 11:24:00  2017      3   \n",
       "22851        A7             36      NaN  2017-03-22 10:59:00  2017      3   \n",
       "...         ...            ...      ...                  ...   ...    ...   \n",
       "148383       A7             36      NaN  2015-12-08 13:42:00  2015     12   \n",
       "178375       D4            624      NaN  2015-08-18 21:50:00  2015      8   \n",
       "\n",
       "       DAY_OF_WEEK  HOUR    UCR_PART       STREET        Lat       Long  \\\n",
       "21258      Tuesday    11  Part Three  PRESCOTT ST  42.375258 -71.024663   \n",
       "22851    Wednesday    10  Part Three  PRESCOTT ST  42.375258 -71.024663   \n",
       "...            ...   ...         ...          ...        ...        ...   \n",
       "148383     Tuesday    13  Part Three  PRESCOTT ST  42.375258 -71.024663   \n",
       "178375     Tuesday    21  Part Three  BOYLSTON ST  42.344896 -71.096592   \n",
       "\n",
       "                           Location  \n",
       "21258   (42.37525782, -71.02466343)  \n",
       "22851   (42.37525782, -71.02466343)  \n",
       "...                             ...  \n",
       "148383  (42.37525782, -71.02466343)  \n",
       "178375  (42.34489594, -71.09659186)  \n",
       "\n",
       "[17 rows x 17 columns]"
      ]
     },
     "execution_count": 26,
     "metadata": {},
     "output_type": "execute_result"
    }
   ],
   "source": [
    "crime[crime.OFFENSE_CODE_GROUP == 'Aircraft']"
   ]
  },
  {
   "cell_type": "code",
   "execution_count": null,
   "metadata": {
    "collapsed": true
   },
   "outputs": [],
   "source": []
  },
  {
   "cell_type": "code",
   "execution_count": null,
   "metadata": {
    "collapsed": true
   },
   "outputs": [],
   "source": []
  },
  {
   "cell_type": "code",
   "execution_count": null,
   "metadata": {
    "collapsed": true
   },
   "outputs": [],
   "source": []
  },
  {
   "cell_type": "code",
   "execution_count": 5,
   "metadata": {
    "collapsed": true
   },
   "outputs": [],
   "source": [
    "lead = lead.set_index('Community Area Name')"
   ]
  },
  {
   "cell_type": "code",
   "execution_count": 10,
   "metadata": {
    "collapsed": false
   },
   "outputs": [],
   "source": [
    "lead_humboldt = lead.loc['Humboldt park']"
   ]
  },
  {
   "cell_type": "code",
   "execution_count": 14,
   "metadata": {
    "collapsed": true
   },
   "outputs": [],
   "source": [
    "rownames = lead_humboldt.index.values"
   ]
  },
  {
   "cell_type": "code",
   "execution_count": 18,
   "metadata": {
    "collapsed": false
   },
   "outputs": [],
   "source": [
    "screened_row = []\n",
    "for row in rownames:\n",
    "    match = re.search('Screened for Lead in',row)\n",
    "    if match:\n",
    "        screened_row.append(row)"
   ]
  },
  {
   "cell_type": "code",
   "execution_count": 22,
   "metadata": {
    "collapsed": false
   },
   "outputs": [],
   "source": [
    "screened = lead_humboldt[screened_row]"
   ]
  },
  {
   "cell_type": "code",
   "execution_count": 40,
   "metadata": {
    "collapsed": false
   },
   "outputs": [],
   "source": [
    "screened = pd.DataFrame(screened)"
   ]
  },
  {
   "cell_type": "code",
   "execution_count": 44,
   "metadata": {
    "collapsed": false
   },
   "outputs": [],
   "source": [
    "a = screened['Humboldt park']"
   ]
  },
  {
   "cell_type": "code",
   "execution_count": 110,
   "metadata": {
    "collapsed": false
   },
   "outputs": [
    {
     "data": {
      "text/plain": [
       "Screened for Lead in 2000    3156.0\n",
       "Screened for Lead in 2001    3261.0\n",
       "Screened for Lead in 2002    3249.0\n",
       "Screened for Lead in 2003    3103.0\n",
       "Screened for Lead in 2004    2738.0\n",
       "Screened for Lead in 2005    2991.0\n",
       "Screened for Lead in 2006    3028.0\n",
       "Screened for Lead in 2007    2999.0\n",
       "Screened for Lead in 2008    3002.0\n",
       "Screened for Lead in 2009    3248.0\n",
       "Screened for Lead in 2010    3025.0\n",
       "Screened for Lead in 2011    3049.0\n",
       "Name: Humboldt park, dtype: float64"
      ]
     },
     "execution_count": 110,
     "metadata": {},
     "output_type": "execute_result"
    }
   ],
   "source": [
    "b.apply(float)"
   ]
  },
  {
   "cell_type": "code",
   "execution_count": 113,
   "metadata": {
    "collapsed": false
   },
   "outputs": [],
   "source": [
    "a1 = a.apply(lambda elt: str(atof(elt)) if isinstance(elt, str) else float(elt))"
   ]
  },
  {
   "cell_type": "code",
   "execution_count": 116,
   "metadata": {
    "collapsed": false
   },
   "outputs": [
    {
     "data": {
      "text/plain": [
       "Screened for Lead in 1999    3355.0\n",
       "Screened for Lead in 2000    3156.0\n",
       "Screened for Lead in 2001    3261.0\n",
       "Screened for Lead in 2002    3249.0\n",
       "Screened for Lead in 2003    3103.0\n",
       "Screened for Lead in 2004    2738.0\n",
       "Screened for Lead in 2005    2991.0\n",
       "Screened for Lead in 2006    3028.0\n",
       "Screened for Lead in 2007    2999.0\n",
       "Screened for Lead in 2008    3002.0\n",
       "Screened for Lead in 2009    3248.0\n",
       "Screened for Lead in 2010    3025.0\n",
       "Screened for Lead in 2011    3049.0\n",
       "Screened for Lead in 2012    2931.0\n",
       "Screened for Lead in 2013    2759.0\n",
       "Name: Humboldt park, dtype: float64"
      ]
     },
     "execution_count": 116,
     "metadata": {},
     "output_type": "execute_result"
    }
   ],
   "source": [
    "a1.apply(float)"
   ]
  },
  {
   "cell_type": "code",
   "execution_count": 97,
   "metadata": {
    "collapsed": false
   },
   "outputs": [],
   "source": [
    "b1 = b.values[0]"
   ]
  },
  {
   "cell_type": "code",
   "execution_count": 83,
   "metadata": {
    "collapsed": false
   },
   "outputs": [
    {
     "data": {
      "text/plain": [
       "Screened for Lead in 1999    3355\n",
       "Screened for Lead in 2000    3156\n",
       "Screened for Lead in 2001    3261\n",
       "Screened for Lead in 2002    3249\n",
       "Screened for Lead in 2003    3103\n",
       "Screened for Lead in 2004    2738\n",
       "Screened for Lead in 2005    2991\n",
       "Screened for Lead in 2006    3028\n",
       "Screened for Lead in 2007    2999\n",
       "Screened for Lead in 2008    3002\n",
       "Screened for Lead in 2009    3248\n",
       "Screened for Lead in 2010    3025\n",
       "Name: Humboldt park, dtype: int64"
      ]
     },
     "execution_count": 83,
     "metadata": {},
     "output_type": "execute_result"
    }
   ],
   "source": [
    "b.apply(int)"
   ]
  },
  {
   "cell_type": "code",
   "execution_count": 77,
   "metadata": {
    "collapsed": false
   },
   "outputs": [
    {
     "ename": "SyntaxError",
     "evalue": "invalid syntax (<ipython-input-77-dd11680d08da>, line 1)",
     "output_type": "error",
     "traceback": [
      "\u001b[0;36m  File \u001b[0;32m\"<ipython-input-77-dd11680d08da>\"\u001b[0;36m, line \u001b[0;32m1\u001b[0m\n\u001b[0;31m    a.apply(lambda x: str(x) for isinstance(x,int))\u001b[0m\n\u001b[0m                                                  ^\u001b[0m\n\u001b[0;31mSyntaxError\u001b[0m\u001b[0;31m:\u001b[0m invalid syntax\n"
     ]
    }
   ],
   "source": [
    "a.apply(lambda x: str(x) for isinstance(x,int))"
   ]
  },
  {
   "cell_type": "code",
   "execution_count": 76,
   "metadata": {
    "collapsed": false
   },
   "outputs": [
    {
     "data": {
      "text/plain": [
       "'2,759'"
      ]
     },
     "execution_count": 76,
     "metadata": {},
     "output_type": "execute_result"
    }
   ],
   "source": [
    "str(a[14])"
   ]
  },
  {
   "cell_type": "code",
   "execution_count": 63,
   "metadata": {
    "collapsed": false
   },
   "outputs": [],
   "source": [
    "c = str(a[0])"
   ]
  },
  {
   "cell_type": "code",
   "execution_count": 64,
   "metadata": {
    "collapsed": false
   },
   "outputs": [
    {
     "data": {
      "text/plain": [
       "'3355'"
      ]
     },
     "execution_count": 64,
     "metadata": {},
     "output_type": "execute_result"
    }
   ],
   "source": [
    "c"
   ]
  },
  {
   "cell_type": "code",
   "execution_count": 65,
   "metadata": {
    "collapsed": false
   },
   "outputs": [
    {
     "data": {
      "text/plain": [
       "str"
      ]
     },
     "execution_count": 65,
     "metadata": {},
     "output_type": "execute_result"
    }
   ],
   "source": [
    "type(c)"
   ]
  },
  {
   "cell_type": "code",
   "execution_count": null,
   "metadata": {
    "collapsed": true
   },
   "outputs": [],
   "source": []
  }
 ],
 "metadata": {
  "kernelspec": {
   "display_name": "Python 2",
   "language": "python",
   "name": "python2"
  },
  "language_info": {
   "codemirror_mode": {
    "name": "ipython",
    "version": 2
   },
   "file_extension": ".py",
   "mimetype": "text/x-python",
   "name": "python",
   "nbconvert_exporter": "python",
   "pygments_lexer": "ipython2",
   "version": "2.7.13"
  }
 },
 "nbformat": 4,
 "nbformat_minor": 2
}
